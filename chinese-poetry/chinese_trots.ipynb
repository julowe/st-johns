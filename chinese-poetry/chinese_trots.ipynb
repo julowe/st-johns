{
  "metadata": {
    "kernelspec": {
      "name": "python",
      "display_name": "Python (Pyodide)",
      "language": "python"
    },
    "language_info": {
      "codemirror_mode": {
        "name": "python",
        "version": 3
      },
      "file_extension": ".py",
      "mimetype": "text/x-python",
      "name": "python",
      "nbconvert_exporter": "python",
      "pygments_lexer": "ipython3",
      "version": "3.8"
    }
  },
  "nbformat_minor": 5,
  "nbformat": 4,
  "cells": [
    {
      "id": "89ec0758-32d4-4692-8ec6-44e18997de24",
      "cell_type": "markdown",
      "source": "# Quick Creation of cribs/trots of Chinese Poems\n\nLoad this Juypter notebook on some Jupyter server - e.g. [the trial server on Jupyter.org](https://jupyter.org/try-jupyter/lab/) and then hit play (or more specifically 'run this cell and advance') and go through all the cells (usually shift-enter is the shortcut). Or 'restart the kernel and run all cells' should also work.\n\nAlso input your own characters/poem in specified cell below, in format specified. As of now the dictionary entries are not exported, so just copy them from the browser to wherever is convenient for you to save/print. Hopefully a nice formatted export will be made in the future...",
      "metadata": {}
    },
    {
      "id": "724708e7-852a-4d4a-b424-acc059422904",
      "cell_type": "markdown",
      "source": "## To Do\n\n- [ ] Try [PyPi Hanzinpy](https://pypi.org/project/hanzipy/) for decomposition into radicals and multi-character lookup/parsing\n- [ ] Try [PyPi chinese](https://pypi.org/project/chinese/) for multi-character lookup/parsing",
      "metadata": {}
    },
    {
      "id": "edcdfc33-6805-4612-8176-a8904c51ff9c",
      "cell_type": "code",
      "source": "# general requirements\nimport re",
      "metadata": {
        "trusted": true
      },
      "outputs": [],
      "execution_count": null
    },
    {
      "id": "1f103c3d-910b-49e4-ab6e-58107110d158",
      "cell_type": "code",
      "source": "# from https://pypi.org/project/pycccedict/\n%pip install pycccedict\n\nfrom pycccedict.cccedict import CcCedict\n\ncccedict = CcCedict()",
      "metadata": {
        "trusted": true
      },
      "outputs": [],
      "execution_count": null
    },
    {
      "id": "fcefb947-4b53-4b62-a2d9-97b5bd457b14",
      "cell_type": "code",
      "source": "# from https://pypi.org/project/chinese-english-lookup/\n%pip install chinese-english-lookup\n\nfrom chinese_english_lookup import Dictionary\n\ncel_d = Dictionary()",
      "metadata": {
        "trusted": true
      },
      "outputs": [],
      "execution_count": null
    },
    {
      "id": "391cf7c8-8c20-408a-bf20-e81ee395acae",
      "cell_type": "markdown",
      "source": "## Example function calls\n\nUse `get_entry` to get all details in a json-y set\n\nUse `get_definitions` to just return definitions, in a list.\n\nFor other functions etc see [pycccedict's pypi page](https://pypi.org/project/pycccedict/)",
      "metadata": {}
    },
    {
      "id": "6adaf97f-871f-413d-9775-ca59f432a0f6",
      "cell_type": "code",
      "source": "cccedict.get_entry('猫')",
      "metadata": {
        "trusted": true
      },
      "outputs": [],
      "execution_count": null
    },
    {
      "id": "71342f07-dce8-4eb9-b381-40b5ecfc91e5",
      "cell_type": "code",
      "source": "cccedict.get_definitions('猫')",
      "metadata": {
        "trusted": true
      },
      "outputs": [],
      "execution_count": null
    },
    {
      "id": "07cab886-ce4a-404d-90ef-643a8390b078",
      "cell_type": "code",
      "source": "word_entry = cel_d.lookup('牛油果')\nprint(word_entry)\nword_entry = cel_d.lookup('猫')\nprint(word_entry)",
      "metadata": {
        "trusted": true
      },
      "outputs": [],
      "execution_count": null
    },
    {
      "id": "81dc189f-331a-4dd3-b249-b323cf9f93bb",
      "cell_type": "markdown",
      "source": "## Getting definitions of all characters in a poem\n\nBelow is Du Fu's \"Dreaming of Li Po\". [Part 1 from Chapter 7](https://cti.lib.virginia.edu/cll/chinese_literature/watson/CB7.htm) of the larger [300 Tang Poems](https://cti.lib.virginia.edu/frame.htm). [Part 2 from thsi website](https://www.cn-poetry.com/dufu-poetry/li-bai-dream-2.html).\n\nTo use this script edit the below variable or create your own (and then replace it's name in the cell that follows). Put each line in quotes as in the below example. Spaces between characters is ok, it is ignored, but please don't put other roman characters etc.",
      "metadata": {}
    },
    {
      "id": "8bc033b7-5345-4fa1-830a-628ec8443fb5",
      "cell_type": "code",
      "source": "#杜 甫 du4 fu3\n#夢 李 白 二 首 meng4 li3 bai2 er4 shou3 - Dreaming of Li Po\n\npoem_du_fu_dreaming_of_li_po = [\n\"死 別 已 吞 聲\",\n\"生 別 常 惻 惻\",\n\"江 南 瘴 癘 地\",\n\"逐 客 無 消 息\",\n\"故 人 入 我 夢\",\n\"明 我 長 相 憶\",\n\"恐 非 平 生 魂\",\n\"路 遠 不 可 測\",\n\"魂 來 楓 葉 青\",\n\"魂 去 關 塞 黑\",\n\"君 今 在 羅 網\",\n\"何 以 有 羽 翼\",\n\"落 月 滿 屋 梁\",\n\"猶 疑 照 顏 色\",\n\"水 深 波 浪 闊\",\n\"無 使 蛟 龍 得\",\n\"浮云终日行\",\n\"游子久不至\",\n\"三夜频梦君\",\n\"情亲见君意\",\n\"告归常局促\",\n\"苦道来不易\",\n\"江湖多风波\",\n\"舟楫恐失坠\",\n\"出门搔白首\",\n\"若负平生志\",\n\"冠盖满京华\",\n\"斯人独憔悴\",\n\"孰云网恢恢\",\n\"将老身反累\",\n\"千秋万岁名\",\n\"寂寞身后事\",\n]\n",
      "metadata": {
        "trusted": true
      },
      "outputs": [],
      "execution_count": null
    },
    {
      "id": "19ec8471-63c2-4246-b6d2-a7814341d0e5",
      "cell_type": "code",
      "source": "# from https://usavps.com/blog/64481/\n# Define a regular expression pattern for Chinese characters\npattern = r'[^\\u4e00-\\u9fff\\u3400-\\u4dbf\\u20000-\\u2a6df]+'\n\n#used to mark position of character in line\ncount_character = 0\n\n#step through array/poem by line then character\nfor index, line in enumerate(poem_du_fu_dreaming_of_li_po):\n    count_character = 0\n    print(\" ---------- Line {0} ---------- \".format(index+1))\n    \n    for character in re.sub(pattern, '', line):\n        if not character.isspace():\n            count_character += 1\n            print(\"{0} ({1}:{2}): {3}\".format(\n                character, index+1, count_character, \"; \".join(cccedict.get_definitions(character))\n                )\n            )",
      "metadata": {
        "trusted": true
      },
      "outputs": [],
      "execution_count": null
    },
    {
      "id": "e0830101-3b94-497a-9364-9841c2ffd85b",
      "cell_type": "code",
      "source": "# Test both packages give same results\n# They do.\n\n#used to mark position of character in line\ncount_character = 0\n\n#step through array/poem by line then character\nfor index, line in enumerate(poem_du_fu_dreaming_of_li_po):\n    count_character = 0\n    print(\" ---------- Line {0} ---------- \".format(index+1))\n    for character in line:\n        if not character.isspace():\n            count_character += 1\n            #print(\"{0} ({1}:{2}): {3}\".format(\n                #character, index+1, count_character, \"; \".join(cccedict.get_definitions(character))\n                #)\n            #)\n            print(\"{0} ({1}:{2}) [pycccedict]: {3}\".format(\n                character, index+1, count_character, \"; \".join(cccedict.get_definitions(character))\n                )\n            )\n            print(\"{0} ({1}:{2}) [c_e_lookup]: {3}\".format(\n                character, index+1, count_character, \"; \".join(cccedict.get_definitions(character))\n                )  \n            )",
      "metadata": {
        "trusted": true
      },
      "outputs": [],
      "execution_count": null
    }
  ]
}