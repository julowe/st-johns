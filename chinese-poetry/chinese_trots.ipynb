{
  "cells": [
    {
      "cell_type": "markdown",
      "id": "89ec0758-32d4-4692-8ec6-44e18997de24",
      "metadata": {},
      "source": [
        "# Quick Creation of cribs/trots of Chinese Poems\n",
        "\n",
        "Load this Juypter notebook on some Jupyter server - e.g. [the trial server on Jupyter.org](https://jupyter.org/try-jupyter/lab/) and then hit play (or more specifically 'run this cell and advance') and go through all the cells (usually shift-enter is the shortcut). Or 'restart the kernel and run all cells' should also work.\n",
        "\n",
        "Also input your own characters/poem in specified cell below, in format specified. As of now the dictionary entries are not exported, so just copy them from the browser to wherever is convenient for you to save/print. Hopefully a nice formatted export will be made in the future..."
      ]
    },
    {
      "cell_type": "markdown",
      "id": "724708e7-852a-4d4a-b424-acc059422904",
      "metadata": {},
      "source": [
        "## To Do\n",
        "\n",
        "- [x] Try [PyPi Hanzinpy](https://pypi.org/project/hanzipy/) for decomposition into radicals and multi-character lookup/parsing\n",
        "  - Worked pretty well, just some oddness with that one character, see below. It says it is using CC-CEDICT (like pleco and other twqo modules) but sometimes has additional results? (Not fewer, just more...)\n",
        "- [ ] Try [PyPi chinese](https://pypi.org/project/chinese/) for multi-character lookup/parsing"
      ]
    },
    {
      "cell_type": "code",
      "execution_count": null,
      "id": "edcdfc33-6805-4612-8176-a8904c51ff9c",
      "metadata": {
        "trusted": true
      },
      "outputs": [],
      "source": [
        "# general requirements\n",
        "import re\n",
        "from pprint import pprint"
      ]
    },
    {
      "cell_type": "code",
      "execution_count": null,
      "id": "1f103c3d-910b-49e4-ab6e-58107110d158",
      "metadata": {
        "trusted": true
      },
      "outputs": [],
      "source": [
        "# from https://pypi.org/project/pycccedict/\n",
        "%pip install pycccedict\n",
        "\n",
        "from pycccedict.cccedict import CcCedict\n",
        "\n",
        "cccedict = CcCedict()"
      ]
    },
    {
      "cell_type": "code",
      "execution_count": null,
      "id": "fcefb947-4b53-4b62-a2d9-97b5bd457b14",
      "metadata": {
        "trusted": true
      },
      "outputs": [],
      "source": [
        "# from https://pypi.org/project/chinese-english-lookup/\n",
        "%pip install chinese-english-lookup\n",
        "\n",
        "from chinese_english_lookup import Dictionary\n",
        "\n",
        "cel_d = Dictionary()"
      ]
    },
    {
      "cell_type": "code",
      "execution_count": null,
      "id": "9c7197c6",
      "metadata": {},
      "outputs": [],
      "source": [
        "#from https://pypi.org/project/hanzipy/\n",
        "%pip install hanzipy\n",
        "\n",
        "# import dictionary\n",
        "from hanzipy.decomposer import HanziDecomposer\n",
        "hDecomposer = HanziDecomposer()\n",
        "# import decomposer\n",
        "from hanzipy.dictionary import HanziDictionary\n",
        "hDictionary = HanziDictionary()"
      ]
    },
    {
      "cell_type": "markdown",
      "id": "391cf7c8-8c20-408a-bf20-e81ee395acae",
      "metadata": {},
      "source": [
        "## Example function calls\n",
        "\n",
        "Use `get_entry` to get all details in a json-y set\n",
        "\n",
        "Use `get_definitions` to just return definitions, in a list.\n",
        "\n",
        "For other functions etc see [pycccedict's pypi page](https://pypi.org/project/pycccedict/)"
      ]
    },
    {
      "cell_type": "code",
      "execution_count": null,
      "id": "6adaf97f-871f-413d-9775-ca59f432a0f6",
      "metadata": {
        "trusted": true
      },
      "outputs": [],
      "source": [
        "cccedict.get_entry('猫')"
      ]
    },
    {
      "cell_type": "code",
      "execution_count": null,
      "id": "71342f07-dce8-4eb9-b381-40b5ecfc91e5",
      "metadata": {
        "trusted": true
      },
      "outputs": [],
      "source": [
        "cccedict.get_definitions('猫')"
      ]
    },
    {
      "cell_type": "code",
      "execution_count": null,
      "id": "07cab886-ce4a-404d-90ef-643a8390b078",
      "metadata": {
        "trusted": true
      },
      "outputs": [],
      "source": [
        "word_entry = cel_d.lookup('牛油果')\n",
        "print(word_entry)\n",
        "word_entry = cel_d.lookup('猫')\n",
        "print(word_entry)"
      ]
    },
    {
      "cell_type": "markdown",
      "id": "81dc189f-331a-4dd3-b249-b323cf9f93bb",
      "metadata": {},
      "source": [
        "## Getting definitions of all characters in a poem\n",
        "\n",
        "Below is Du Fu's \"Dreaming of Li Po\". [Part 1 from Chapter 7](https://cti.lib.virginia.edu/cll/chinese_literature/watson/CB7.htm) of the larger [300 Tang Poems](https://cti.lib.virginia.edu/frame.htm). [Part 2 from thsi website](https://www.cn-poetry.com/dufu-poetry/li-bai-dream-2.html).\n",
        "\n",
        "To use this script edit the below variable or create your own (and then replace it's name in the cell that follows). Put each line in quotes as in the below example. Spaces between characters is ok, it is ignored, but please don't put other roman characters etc."
      ]
    },
    {
      "cell_type": "code",
      "execution_count": null,
      "id": "8bc033b7-5345-4fa1-830a-628ec8443fb5",
      "metadata": {
        "trusted": true
      },
      "outputs": [],
      "source": [
        "#杜 甫 du4 fu3\n",
        "#夢 李 白 二 首 meng4 li3 bai2 er4 shou3 - Dreaming of Li Po\n",
        "\n",
        "poem_du_fu_dreaming_of_li_po = [\n",
        "\"死別已吞聲\",\n",
        "\"生別常惻惻\",\n",
        "\"江南瘴癘地\",\n",
        "\"逐客無消息\",\n",
        "\"故人入我夢\",\n",
        "\"明我長相憶\",\n",
        "\"恐非平生魂\",\n",
        "\"路遠不可測\",\n",
        "\"魂來楓葉青\",\n",
        "\"魂去關塞黑\",\n",
        "\"君今在羅網\",\n",
        "\"何以有羽翼\",\n",
        "\"落月滿屋梁\",\n",
        "\"猶疑照顏色\",\n",
        "\"水深波浪闊\",\n",
        "\"無使蛟龍得\",\n",
        "\"浮云终日行\",\n",
        "\"游子久不至\",\n",
        "\"三夜频梦君\",\n",
        "\"情亲见君意\",\n",
        "\"告归常局促\",\n",
        "\"苦道来不易\",\n",
        "\"江湖多风波\",\n",
        "\"舟楫恐失坠\",\n",
        "\"出门搔白首\",\n",
        "\"若负平生志\",\n",
        "\"冠盖满京华\",\n",
        "\"斯人独憔悴\",\n",
        "\"孰云网恢恢\",\n",
        "\"将老身反累\",\n",
        "\"千秋万岁名\",\n",
        "\"寂寞身后事\",\n",
        "]\n"
      ]
    },
    {
      "cell_type": "code",
      "execution_count": null,
      "id": "19ec8471-63c2-4246-b6d2-a7814341d0e5",
      "metadata": {
        "trusted": true
      },
      "outputs": [],
      "source": [
        "# from https://usavps.com/blog/64481/\n",
        "# Define a regular expression pattern for Chinese characters\n",
        "pattern = r'[^\\u4e00-\\u9fff\\u3400-\\u4dbf\\u20000-\\u2a6df]+'\n",
        "\n",
        "#used to mark position of character in line\n",
        "count_character = 0\n",
        "\n",
        "#step through array/poem by line then character\n",
        "for index, line in enumerate(poem_du_fu_dreaming_of_li_po):\n",
        "    count_character = 0\n",
        "    print(\" ---------- Line {0} ---------- \".format(index+1))\n",
        "    \n",
        "    for character in re.sub(pattern, '', line):\n",
        "        if not character.isspace():\n",
        "            count_character += 1\n",
        "            print(\"{0} ({1}:{2}): {3}\".format(\n",
        "                character, index+1, count_character, \"; \".join(cccedict.get_definitions(character))\n",
        "                )\n",
        "            )"
      ]
    },
    {
      "cell_type": "code",
      "execution_count": null,
      "id": "e0830101-3b94-497a-9364-9841c2ffd85b",
      "metadata": {
        "trusted": true
      },
      "outputs": [],
      "source": [
        "# Test both packages give same results\n",
        "# They do.\n",
        "\n",
        "#used to mark position of character in line\n",
        "count_character = 0\n",
        "\n",
        "#step through array/poem by line then character\n",
        "for index, line in enumerate(poem_du_fu_dreaming_of_li_po):\n",
        "    count_character = 0\n",
        "    print(\" ---------- Line {0} ---------- \".format(index+1))\n",
        "    for character in line:\n",
        "        if not character.isspace():\n",
        "            count_character += 1\n",
        "            #print(\"{0} ({1}:{2}): {3}\".format(\n",
        "                #character, index+1, count_character, \"; \".join(cccedict.get_definitions(character))\n",
        "                #)\n",
        "            #)\n",
        "            print(\"{0} ({1}:{2}) [pycccedict]: {3}\".format(\n",
        "                character, index+1, count_character, \"; \".join(cccedict.get_definitions(character))\n",
        "                )\n",
        "            )\n",
        "            print(\"{0} ({1}:{2}) [c_e_lookup]: {3}\".format(\n",
        "                character, index+1, count_character, \"; \".join(cccedict.get_definitions(character))\n",
        "                )  \n",
        "            )"
      ]
    },
    {
      "cell_type": "code",
      "execution_count": null,
      "id": "3b8ffa1c",
      "metadata": {},
      "outputs": [],
      "source": [
        "## Process using hanzipy\n",
        "\n",
        "# from https://usavps.com/blog/64481/\n",
        "# Define a regular expression pattern for Chinese characters\n",
        "pattern = r\"[^\\u4e00-\\u9fff\\u3400-\\u4dbf\\u20000-\\u2a6df]+\"\n",
        "\n",
        "# used to mark position of character in line\n",
        "count_character = 0\n",
        "\n",
        "# step through array/poem by line then character\n",
        "for line_index, line_text in enumerate(poem_du_fu_dreaming_of_li_po):\n",
        "    count_character = 0\n",
        "    print(\"---------- Line {0} ----------\".format(line_index + 1))\n",
        "\n",
        "    for character in re.sub(pattern, \"\", line_text):\n",
        "        if not character.isspace():\n",
        "            count_character += 1\n",
        "\n",
        "            ## print 'header' to seperate character info\n",
        "            # print(\"---- Info for {0}:\".format(character))\n",
        "\n",
        "            ## hmm this failed on \"魂\" while other two modules did work. This module even worked it just had two entries for this and fails to find it in 'traditional' search mode??\n",
        "            # character_definitions = hDictionary.definition_lookup(character, \"traditional\")\n",
        "            try:\n",
        "                character_definitions = hDictionary.definition_lookup(\n",
        "                    character, \"traditional\"\n",
        "                )\n",
        "            except KeyError:\n",
        "                # print('ugh')\n",
        "                print(\n",
        "                    \"Unable to find 'traditional' definition for {0}, falling back to more general search, results may vary...\".format(\n",
        "                        character\n",
        "                    )\n",
        "                )\n",
        "                try:\n",
        "                    character_definitions = hDictionary.definition_lookup(character)\n",
        "                except KeyError:\n",
        "                    print(\"Unable to find any definition for {0} !!\".format(character))\n",
        "                    # TODO: use ccedict as third/last attempt?\n",
        "            finally:\n",
        "                # print(character_definitions)\n",
        "\n",
        "                character_definition_string = \"\"\n",
        "                for entry in character_definitions:\n",
        "                    # TODO: add pinyin (and also trad char?) to start of each definition??\n",
        "                    if len(character_definition_string) > 0:\n",
        "                        character_definition_string += \"; \"\n",
        "\n",
        "                    character_definition_string += entry[\"definition\"]\n",
        "\n",
        "                    # character_definition_string += \"; \".join(entry['definition'])\n",
        "                    # print(\"; \".join(entry['definition']))\n",
        "                    # print(entry['definition'])\n",
        "\n",
        "                if len(character_definitions) == 1:\n",
        "                    character_definition_string_start = \"Definition\"\n",
        "                else:\n",
        "                    character_definition_string_start = \"Definitions\"\n",
        "\n",
        "                # print(\"---- Info for {0}:\".format(character))\n",
        "                print(\n",
        "                    \"{0} for {1}, char#{2}: {3}\".format(\n",
        "                        character_definition_string_start,\n",
        "                        character,\n",
        "                        count_character,\n",
        "                        character_definition_string,\n",
        "                    )\n",
        "                )\n",
        "\n",
        "            # print(\"{0} ({1}:{2}): {3}\".format(\n",
        "            #    character, line_index+1, count_character, \"; \".join(hDictionary.definition_lookup(character, \"traditional\")['definition'])\n",
        "            #    )\n",
        "            # )\n",
        "\n",
        "            ## Get components of character\n",
        "\n",
        "            character_decomposition = hDecomposer.decompose(character)\n",
        "            # print(character_decomposition)\n",
        "            # no difference, just does not return other values.\n",
        "            # character_decomposition2 = hDecomposer.decompose(character, 2)\n",
        "            # print(character_decomposition2)\n",
        "\n",
        "            radical_decomposition_string = \"    Decomposition: \"\n",
        "            for index, radical in enumerate(character_decomposition[\"radical\"]):\n",
        "                if index > 0:\n",
        "                    radical_decomposition_string += \"; \"\n",
        "\n",
        "                radical_decomposition_string += \"Radical ({0}): {1}\".format(\n",
        "                    radical, hDecomposer.get_radical_meaning(radical)\n",
        "                )\n",
        "\n",
        "                # print(\"    Radical ({0}): {1}\".format(radical, hDecomposer.get_radical_meaning(radical)))\n",
        "\n",
        "            print(radical_decomposition_string)\n",
        "\n",
        "            # hDecomposer = HanziDecomposer()\n",
        "            # hDictionary = HanziDictionary()\n",
        "\n",
        "    # then after looking up each character's definition, do whole line at once\n",
        "    print(\n",
        "        \"---- Possible compound words in {0}: (Note: results are not always for correct ordering of characters)\".format(\n",
        "            line_text\n",
        "        )\n",
        "    )\n",
        "\n",
        "    # TODO: do better printing of this. for result in results: pprint? and only if len(result['traditional']) > 1 ?\n",
        "    line_text_combo_results = hDictionary.dictionary_search(line_text, \"only\")\n",
        "\n",
        "    line_text_combo_results_multicharacter = False\n",
        "    for result in line_text_combo_results:\n",
        "        # print(\"Entry of {0} has length {1}\".format(result['traditional'], len(result['traditional'])))\n",
        "        if len(result[\"traditional\"]) > 1:\n",
        "            # TODO: this search will often reutrn a 'compound word' if one character is repeated to make that word.\n",
        "            #  but you get this result even if the character is only in theline once.\n",
        "            #  so let's search and make sure the result is actually in the line?\n",
        "            line_text_combo_results_multicharacter = True\n",
        "            # TODO: print traditional and simple? Maybe not useful\n",
        "            print(\n",
        "                \"Compound {0}: {1}\".format(result[\"traditional\"], result[\"definition\"])\n",
        "            )\n",
        "\n",
        "    ## Print userfriendly message of 'no combos found'\n",
        "    if not line_text_combo_results_multicharacter:\n",
        "        print(\"No compound words found.\")\n",
        "\n",
        "    # if you get a weird result in the combos section, uncomment this line to see full info on all returns, but it doesn't always make anything clearer...\n",
        "    # pprint(line_text_combo_results)"
      ]
    }
  ],
  "metadata": {
    "kernelspec": {
      "display_name": "Python (Pyodide)",
      "language": "python",
      "name": "python"
    },
    "language_info": {
      "codemirror_mode": {
        "name": "python",
        "version": 3
      },
      "file_extension": ".py",
      "mimetype": "text/x-python",
      "name": "python",
      "nbconvert_exporter": "python",
      "pygments_lexer": "ipython3",
      "version": "3.8"
    }
  },
  "nbformat": 4,
  "nbformat_minor": 5
}
